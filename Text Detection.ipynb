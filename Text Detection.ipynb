{
 "cells": [
  {
   "cell_type": "code",
   "execution_count": 8,
   "metadata": {},
   "outputs": [],
   "source": [
    "import cv2\n",
    "import pytesseract\n",
    "import PIL\n",
    "from PIL import Image\n",
    "import string\n",
    "\n",
    "def imageToFile(temp, k):\n",
    "    img = Image.open(temp)\n",
    "    gray = cv2.cvtColor(cv2.imread(temp), cv2.COLOR_BGR2GRAY)\n",
    "    \n",
    "    ret, thresh1 = cv2.threshold(gray, 0, 255, cv2.THRESH_OTSU | cv2.THRESH_BINARY_INV)\n",
    "    rect_kernel = cv2.getStructuringElement(cv2.MORPH_RECT, (22, 22))\n",
    "    dilation = cv2.dilate(thresh1, rect_kernel, iterations = 1) \n",
    "    contours, hierarchy = cv2.findContours(dilation, cv2.RETR_EXTERNAL, cv2.CHAIN_APPROX_NONE)\n",
    "    print(2)\n",
    "    \n",
    "    #file = open(\"tempo.txt\", \"w+\") \n",
    "    #file.write(\"\") \n",
    "    #file.close() \n",
    "    #print(3)\n",
    "\n",
    "    im2 = gray.copy()\n",
    "\n",
    "    for cnt in contours: \n",
    "        x, y, w, h = cv2.boundingRect(cnt)\n",
    "    \n",
    "        crop = im2[y:y+h, x:x+w]\n",
    "        \n",
    "        #file = open(\"readonly/tempo.txt\", \"a\")\n",
    "        \n",
    "        text = pytesseract.image_to_string(crop)\n",
    "        test_text = \"\"\n",
    "        for ch in text.lower():\n",
    "            if ch in string.ascii_lowercase:\n",
    "                test_text += ch\n",
    "        if k in test_text:\n",
    "            return True\n",
    "    return False\n",
    "\n",
    "        #file.write(ch)\n",
    "        #file.write(' ')\n",
    "        #file.close()"
   ]
  },
  {
   "cell_type": "code",
   "execution_count": 7,
   "metadata": {},
   "outputs": [],
   "source": [
    "def key_present(temp):\n",
    "    k = input('Keyword to search for:')\n",
    "    print(imageToFile(temp, k.lower()))\n",
    "    #with open(\"readonly/tempo.txt\", \"r\") as f:\n",
    "        #text = f.read()\n",
    "        #print(5)\n",
    "        #if k.lower() in text:\n",
    "           # return True\n",
    "        #return False"
   ]
  },
  {
   "cell_type": "code",
   "execution_count": 11,
   "metadata": {},
   "outputs": [
    {
     "name": "stdout",
     "output_type": "stream",
     "text": [
      "Keyword to search for:Christopher\n",
      "2\n",
      "False\n"
     ]
    }
   ],
   "source": [
    "temp_f = 'readonly/0a-1.png'\n",
    "key_present(temp_f)"
   ]
  }
 ],
 "metadata": {
  "kernelspec": {
   "display_name": "Python 3",
   "language": "python",
   "name": "python3"
  },
  "language_info": {
   "codemirror_mode": {
    "name": "ipython",
    "version": 3
   },
   "file_extension": ".py",
   "mimetype": "text/x-python",
   "name": "python",
   "nbconvert_exporter": "python",
   "pygments_lexer": "ipython3",
   "version": "3.8.3"
  }
 },
 "nbformat": 4,
 "nbformat_minor": 4
}
